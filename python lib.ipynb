{
 "cells": [
  {
   "cell_type": "markdown",
   "metadata": {},
   "source": [
    "# Using Python for Data Science.  "
   ]
  },
  {
   "cell_type": "code",
   "execution_count": 1,
   "metadata": {},
   "outputs": [],
   "source": [
    "import pandas as pd"
   ]
  },
  {
   "cell_type": "code",
   "execution_count": 2,
   "metadata": {},
   "outputs": [],
   "source": [
    "import numpy as np"
   ]
  },
  {
   "cell_type": "code",
   "execution_count": 3,
   "metadata": {},
   "outputs": [],
   "source": [
    "import matplotlib as plt"
   ]
  },
  {
   "cell_type": "code",
   "execution_count": 10,
   "metadata": {},
   "outputs": [],
   "source": [
    "%matplotlib inline"
   ]
  },
  {
   "cell_type": "code",
   "execution_count": 88,
   "metadata": {},
   "outputs": [],
   "source": [
    "df = pd.read_excel (r'Desktop\\SBI-Financial Report.xlsx')\n"
   ]
  },
  {
   "cell_type": "code",
   "execution_count": 89,
   "metadata": {},
   "outputs": [
    {
     "data": {
      "text/html": [
       "<div>\n",
       "<style scoped>\n",
       "    .dataframe tbody tr th:only-of-type {\n",
       "        vertical-align: middle;\n",
       "    }\n",
       "\n",
       "    .dataframe tbody tr th {\n",
       "        vertical-align: top;\n",
       "    }\n",
       "\n",
       "    .dataframe thead th {\n",
       "        text-align: right;\n",
       "    }\n",
       "</style>\n",
       "<table border=\"1\" class=\"dataframe\">\n",
       "  <thead>\n",
       "    <tr style=\"text-align: right;\">\n",
       "      <th></th>\n",
       "      <th>Year</th>\n",
       "      <th>Deposits</th>\n",
       "      <th>Advances</th>\n",
       "      <th>Investments</th>\n",
       "      <th>Total Assets</th>\n",
       "      <th>Interest Income</th>\n",
       "      <th>Interest Expenses</th>\n",
       "      <th>Net Interest Income</th>\n",
       "      <th>Total Operating Income</th>\n",
       "      <th>Staff Expenses</th>\n",
       "      <th>Overhead Expenses</th>\n",
       "      <th>Total Operating Expenses</th>\n",
       "    </tr>\n",
       "  </thead>\n",
       "  <tbody>\n",
       "    <tr>\n",
       "      <th>0</th>\n",
       "      <td>2010</td>\n",
       "      <td>8041.16</td>\n",
       "      <td>6319.14</td>\n",
       "      <td>2957.85</td>\n",
       "      <td>10534.13</td>\n",
       "      <td>709.94</td>\n",
       "      <td>473.22</td>\n",
       "      <td>236.71</td>\n",
       "      <td>149.68</td>\n",
       "      <td>386.40</td>\n",
       "      <td>127.55</td>\n",
       "      <td>75.64</td>\n",
       "    </tr>\n",
       "    <tr>\n",
       "      <th>1</th>\n",
       "      <td>2011</td>\n",
       "      <td>9339.33</td>\n",
       "      <td>7567.19</td>\n",
       "      <td>2956.01</td>\n",
       "      <td>12237.36</td>\n",
       "      <td>813.94</td>\n",
       "      <td>488.68</td>\n",
       "      <td>325.26</td>\n",
       "      <td>158.25</td>\n",
       "      <td>483.61</td>\n",
       "      <td>144.80</td>\n",
       "      <td>NaN</td>\n",
       "    </tr>\n",
       "    <tr>\n",
       "      <th>2</th>\n",
       "      <td>2012</td>\n",
       "      <td>10436.47</td>\n",
       "      <td>8675.79</td>\n",
       "      <td>3121.98</td>\n",
       "      <td>13355.19</td>\n",
       "      <td>1065.21</td>\n",
       "      <td>632.30</td>\n",
       "      <td>432.91</td>\n",
       "      <td>143.51</td>\n",
       "      <td>576.43</td>\n",
       "      <td>169.74</td>\n",
       "      <td>90.95</td>\n",
       "    </tr>\n",
       "    <tr>\n",
       "      <th>3</th>\n",
       "      <td>2013</td>\n",
       "      <td>12027.40</td>\n",
       "      <td>10456.17</td>\n",
       "      <td>3509.27</td>\n",
       "      <td>15662.61</td>\n",
       "      <td>1196.57</td>\n",
       "      <td>753.26</td>\n",
       "      <td>443.31</td>\n",
       "      <td>160.35</td>\n",
       "      <td>603.66</td>\n",
       "      <td>183.81</td>\n",
       "      <td>109.04</td>\n",
       "    </tr>\n",
       "    <tr>\n",
       "      <th>4</th>\n",
       "      <td>2014</td>\n",
       "      <td>13944.09</td>\n",
       "      <td>12098.29</td>\n",
       "      <td>3983.08</td>\n",
       "      <td>17922.35</td>\n",
       "      <td>1363.51</td>\n",
       "      <td>870.69</td>\n",
       "      <td>492.82</td>\n",
       "      <td>185.53</td>\n",
       "      <td>678.35</td>\n",
       "      <td>225.04</td>\n",
       "      <td>132.22</td>\n",
       "    </tr>\n",
       "  </tbody>\n",
       "</table>\n",
       "</div>"
      ],
      "text/plain": [
       "   Year  Deposits  Advances  Investments  Total Assets  Interest Income  \\\n",
       "0  2010   8041.16   6319.14      2957.85      10534.13           709.94   \n",
       "1  2011   9339.33   7567.19      2956.01      12237.36           813.94   \n",
       "2  2012  10436.47   8675.79      3121.98      13355.19          1065.21   \n",
       "3  2013  12027.40  10456.17      3509.27      15662.61          1196.57   \n",
       "4  2014  13944.09  12098.29      3983.08      17922.35          1363.51   \n",
       "\n",
       "   Interest Expenses  Net Interest Income  Total Operating Income  \\\n",
       "0             473.22               236.71                  149.68   \n",
       "1             488.68               325.26                  158.25   \n",
       "2             632.30               432.91                  143.51   \n",
       "3             753.26               443.31                  160.35   \n",
       "4             870.69               492.82                  185.53   \n",
       "\n",
       "   Staff Expenses  Overhead Expenses  Total Operating Expenses  \n",
       "0          386.40             127.55                     75.64  \n",
       "1          483.61             144.80                       NaN  \n",
       "2          576.43             169.74                     90.95  \n",
       "3          603.66             183.81                    109.04  \n",
       "4          678.35             225.04                    132.22  "
      ]
     },
     "execution_count": 89,
     "metadata": {},
     "output_type": "execute_result"
    }
   ],
   "source": [
    "df.head() #looking at top rows using the function Head."
   ]
  },
  {
   "cell_type": "code",
   "execution_count": 90,
   "metadata": {},
   "outputs": [
    {
     "data": {
      "text/html": [
       "<div>\n",
       "<style scoped>\n",
       "    .dataframe tbody tr th:only-of-type {\n",
       "        vertical-align: middle;\n",
       "    }\n",
       "\n",
       "    .dataframe tbody tr th {\n",
       "        vertical-align: top;\n",
       "    }\n",
       "\n",
       "    .dataframe thead th {\n",
       "        text-align: right;\n",
       "    }\n",
       "</style>\n",
       "<table border=\"1\" class=\"dataframe\">\n",
       "  <thead>\n",
       "    <tr style=\"text-align: right;\">\n",
       "      <th></th>\n",
       "      <th>Year</th>\n",
       "      <th>Deposits</th>\n",
       "      <th>Advances</th>\n",
       "      <th>Investments</th>\n",
       "      <th>Total Assets</th>\n",
       "      <th>Interest Income</th>\n",
       "      <th>Interest Expenses</th>\n",
       "      <th>Net Interest Income</th>\n",
       "      <th>Total Operating Income</th>\n",
       "      <th>Staff Expenses</th>\n",
       "      <th>Overhead Expenses</th>\n",
       "      <th>Total Operating Expenses</th>\n",
       "    </tr>\n",
       "  </thead>\n",
       "  <tbody>\n",
       "    <tr>\n",
       "      <th>count</th>\n",
       "      <td>5.000000</td>\n",
       "      <td>5.000000</td>\n",
       "      <td>5.000000</td>\n",
       "      <td>5.000000</td>\n",
       "      <td>5.000000</td>\n",
       "      <td>5.000000</td>\n",
       "      <td>5.000000</td>\n",
       "      <td>5.000000</td>\n",
       "      <td>5.000000</td>\n",
       "      <td>5.000000</td>\n",
       "      <td>5.000000</td>\n",
       "      <td>4.000000</td>\n",
       "    </tr>\n",
       "    <tr>\n",
       "      <th>mean</th>\n",
       "      <td>2012.000000</td>\n",
       "      <td>10757.690000</td>\n",
       "      <td>9023.316000</td>\n",
       "      <td>3305.638000</td>\n",
       "      <td>13942.328000</td>\n",
       "      <td>1029.834000</td>\n",
       "      <td>643.630000</td>\n",
       "      <td>386.202000</td>\n",
       "      <td>159.464000</td>\n",
       "      <td>545.690000</td>\n",
       "      <td>170.188000</td>\n",
       "      <td>101.962500</td>\n",
       "    </tr>\n",
       "    <tr>\n",
       "      <th>std</th>\n",
       "      <td>1.581139</td>\n",
       "      <td>2305.415964</td>\n",
       "      <td>2294.677579</td>\n",
       "      <td>440.828807</td>\n",
       "      <td>2901.181044</td>\n",
       "      <td>268.949074</td>\n",
       "      <td>170.845266</td>\n",
       "      <td>103.527948</td>\n",
       "      <td>16.062004</td>\n",
       "      <td>113.061238</td>\n",
       "      <td>37.606685</td>\n",
       "      <td>24.356768</td>\n",
       "    </tr>\n",
       "    <tr>\n",
       "      <th>min</th>\n",
       "      <td>2010.000000</td>\n",
       "      <td>8041.160000</td>\n",
       "      <td>6319.140000</td>\n",
       "      <td>2956.010000</td>\n",
       "      <td>10534.130000</td>\n",
       "      <td>709.940000</td>\n",
       "      <td>473.220000</td>\n",
       "      <td>236.710000</td>\n",
       "      <td>143.510000</td>\n",
       "      <td>386.400000</td>\n",
       "      <td>127.550000</td>\n",
       "      <td>75.640000</td>\n",
       "    </tr>\n",
       "    <tr>\n",
       "      <th>25%</th>\n",
       "      <td>2011.000000</td>\n",
       "      <td>9339.330000</td>\n",
       "      <td>7567.190000</td>\n",
       "      <td>2957.850000</td>\n",
       "      <td>12237.360000</td>\n",
       "      <td>813.940000</td>\n",
       "      <td>488.680000</td>\n",
       "      <td>325.260000</td>\n",
       "      <td>149.680000</td>\n",
       "      <td>483.610000</td>\n",
       "      <td>144.800000</td>\n",
       "      <td>87.122500</td>\n",
       "    </tr>\n",
       "    <tr>\n",
       "      <th>50%</th>\n",
       "      <td>2012.000000</td>\n",
       "      <td>10436.470000</td>\n",
       "      <td>8675.790000</td>\n",
       "      <td>3121.980000</td>\n",
       "      <td>13355.190000</td>\n",
       "      <td>1065.210000</td>\n",
       "      <td>632.300000</td>\n",
       "      <td>432.910000</td>\n",
       "      <td>158.250000</td>\n",
       "      <td>576.430000</td>\n",
       "      <td>169.740000</td>\n",
       "      <td>99.995000</td>\n",
       "    </tr>\n",
       "    <tr>\n",
       "      <th>75%</th>\n",
       "      <td>2013.000000</td>\n",
       "      <td>12027.400000</td>\n",
       "      <td>10456.170000</td>\n",
       "      <td>3509.270000</td>\n",
       "      <td>15662.610000</td>\n",
       "      <td>1196.570000</td>\n",
       "      <td>753.260000</td>\n",
       "      <td>443.310000</td>\n",
       "      <td>160.350000</td>\n",
       "      <td>603.660000</td>\n",
       "      <td>183.810000</td>\n",
       "      <td>114.835000</td>\n",
       "    </tr>\n",
       "    <tr>\n",
       "      <th>max</th>\n",
       "      <td>2014.000000</td>\n",
       "      <td>13944.090000</td>\n",
       "      <td>12098.290000</td>\n",
       "      <td>3983.080000</td>\n",
       "      <td>17922.350000</td>\n",
       "      <td>1363.510000</td>\n",
       "      <td>870.690000</td>\n",
       "      <td>492.820000</td>\n",
       "      <td>185.530000</td>\n",
       "      <td>678.350000</td>\n",
       "      <td>225.040000</td>\n",
       "      <td>132.220000</td>\n",
       "    </tr>\n",
       "  </tbody>\n",
       "</table>\n",
       "</div>"
      ],
      "text/plain": [
       "              Year      Deposits      Advances  Investments  Total Assets  \\\n",
       "count     5.000000      5.000000      5.000000     5.000000      5.000000   \n",
       "mean   2012.000000  10757.690000   9023.316000  3305.638000  13942.328000   \n",
       "std       1.581139   2305.415964   2294.677579   440.828807   2901.181044   \n",
       "min    2010.000000   8041.160000   6319.140000  2956.010000  10534.130000   \n",
       "25%    2011.000000   9339.330000   7567.190000  2957.850000  12237.360000   \n",
       "50%    2012.000000  10436.470000   8675.790000  3121.980000  13355.190000   \n",
       "75%    2013.000000  12027.400000  10456.170000  3509.270000  15662.610000   \n",
       "max    2014.000000  13944.090000  12098.290000  3983.080000  17922.350000   \n",
       "\n",
       "       Interest Income  Interest Expenses  Net Interest Income  \\\n",
       "count         5.000000           5.000000             5.000000   \n",
       "mean       1029.834000         643.630000           386.202000   \n",
       "std         268.949074         170.845266           103.527948   \n",
       "min         709.940000         473.220000           236.710000   \n",
       "25%         813.940000         488.680000           325.260000   \n",
       "50%        1065.210000         632.300000           432.910000   \n",
       "75%        1196.570000         753.260000           443.310000   \n",
       "max        1363.510000         870.690000           492.820000   \n",
       "\n",
       "       Total Operating Income  Staff Expenses  Overhead Expenses  \\\n",
       "count                5.000000        5.000000           5.000000   \n",
       "mean               159.464000      545.690000         170.188000   \n",
       "std                 16.062004      113.061238          37.606685   \n",
       "min                143.510000      386.400000         127.550000   \n",
       "25%                149.680000      483.610000         144.800000   \n",
       "50%                158.250000      576.430000         169.740000   \n",
       "75%                160.350000      603.660000         183.810000   \n",
       "max                185.530000      678.350000         225.040000   \n",
       "\n",
       "       Total Operating Expenses  \n",
       "count                  4.000000  \n",
       "mean                 101.962500  \n",
       "std                   24.356768  \n",
       "min                   75.640000  \n",
       "25%                   87.122500  \n",
       "50%                   99.995000  \n",
       "75%                  114.835000  \n",
       "max                  132.220000  "
      ]
     },
     "execution_count": 90,
     "metadata": {},
     "output_type": "execute_result"
    }
   ],
   "source": [
    "df.describe() #describing the data using function describe"
   ]
  },
  {
   "cell_type": "code",
   "execution_count": 91,
   "metadata": {},
   "outputs": [
    {
     "data": {
      "text/plain": [
       "<matplotlib.axes._subplots.AxesSubplot at 0x204731c3eb8>"
      ]
     },
     "execution_count": 91,
     "metadata": {},
     "output_type": "execute_result"
    },
    {
     "data": {
      "image/png": "[encoded data removed]",
      "text/plain": [
       "<Figure size 432x288 with 1 Axes>"
      ]
     },
     "metadata": {
      "needs_background": "light"
     },
     "output_type": "display_data"
    }
   ],
   "source": [
    "df['Net Interest Income'].hist(bins=30) #Generating Histograms for the given data"
   ]
  },
  {
   "cell_type": "code",
   "execution_count": 92,
   "metadata": {},
   "outputs": [
    {
     "data": {
      "text/plain": [
       "Year                        0\n",
       "Deposits                    0\n",
       "Advances                    0\n",
       "Investments                 0\n",
       "Total Assets                0\n",
       "Interest Income             0\n",
       "Interest Expenses           0\n",
       "Net Interest Income         0\n",
       "Total Operating Income      0\n",
       "Staff Expenses              0\n",
       "Overhead Expenses           0\n",
       "Total Operating Expenses    1\n",
       "dtype: int64"
      ]
     },
     "execution_count": 92,
     "metadata": {},
     "output_type": "execute_result"
    }
   ],
   "source": [
    "df.apply(lambda x: sum(x.isnull()),axis=0) #Gererating missing values from each column"
   ]
  },
  {
   "cell_type": "code",
   "execution_count": 98,
   "metadata": {},
   "outputs": [],
   "source": [
    "df['Total Operating Expenses'].fillna(df['Total Operating Expenses'].mean(), inplace = True)#Replacing operating expense by mean "
   ]
  },
  {
   "cell_type": "code",
   "execution_count": 99,
   "metadata": {},
   "outputs": [
    {
     "data": {
      "text/plain": [
       "Year                        0\n",
       "Deposits                    0\n",
       "Advances                    0\n",
       "Investments                 0\n",
       "Total Assets                0\n",
       "Interest Income             0\n",
       "Interest Expenses           0\n",
       "Net Interest Income         0\n",
       "Total Operating Income      0\n",
       "Staff Expenses              0\n",
       "Overhead Expenses           0\n",
       "Total Operating Expenses    0\n",
       "dtype: int64"
      ]
     },
     "execution_count": 99,
     "metadata": {},
     "output_type": "execute_result"
    }
   ],
   "source": [
    "df.apply(lambda x: sum(x.isnull()),axis=0) #Generating missing values again"
   ]
  },
  {
   "cell_type": "code",
   "execution_count": 102,
   "metadata": {},
   "outputs": [
    {
     "data": {
      "text/plain": [
       "Year                          int64\n",
       "Deposits                    float64\n",
       "Advances                    float64\n",
       "Investments                 float64\n",
       "Total Assets                float64\n",
       "Interest Income             float64\n",
       "Interest Expenses           float64\n",
       "Net Interest Income         float64\n",
       "Total Operating Income      float64\n",
       "Staff Expenses              float64\n",
       "Overhead Expenses           float64\n",
       "Total Operating Expenses    float64\n",
       "dtype: object"
      ]
     },
     "execution_count": 102,
     "metadata": {},
     "output_type": "execute_result"
    }
   ],
   "source": [
    "df.dtypes #Data Types of various columns"
   ]
  },
  {
   "cell_type": "code",
   "execution_count": 103,
   "metadata": {},
   "outputs": [
    {
     "data": {
      "text/plain": [
       "Year                         2012.0000\n",
       "Deposits                    10757.6900\n",
       "Advances                     9023.3160\n",
       "Investments                  3305.6380\n",
       "Total Assets                13942.3280\n",
       "Interest Income              1029.8340\n",
       "Interest Expenses             643.6300\n",
       "Net Interest Income           386.2020\n",
       "Total Operating Income        159.4640\n",
       "Staff Expenses                545.6900\n",
       "Overhead Expenses             170.1880\n",
       "Total Operating Expenses      101.9625\n",
       "dtype: float64"
      ]
     },
     "execution_count": 103,
     "metadata": {},
     "output_type": "execute_result"
    }
   ],
   "source": [
    "df.mean()"
   ]
  },
  {
   "cell_type": "code",
   "execution_count": 107,
   "metadata": {},
   "outputs": [],
   "source": [
    "a=np.array([(1,2,3),(4,5,6)]) #Creating a numpy array"
   ]
  },
  {
   "cell_type": "code",
   "execution_count": 108,
   "metadata": {
    "scrolled": true
   },
   "outputs": [
    {
     "name": "stdout",
     "output_type": "stream",
     "text": [
      "[[1 2 3]\n",
      " [4 5 6]]\n"
     ]
    }
   ],
   "source": [
    "print(a)"
   ]
  },
  {
   "cell_type": "code",
   "execution_count": 110,
   "metadata": {},
   "outputs": [
    {
     "name": "stdout",
     "output_type": "stream",
     "text": [
      "[[ 6 12 18]\n",
      " [24 30 36]]\n"
     ]
    }
   ],
   "source": [
    "print(a*6) #Array elements can be multiplied directly"
   ]
  },
  {
   "cell_type": "code",
   "execution_count": 112,
   "metadata": {},
   "outputs": [
    {
     "data": {
      "text/plain": [
       "2"
      ]
     },
     "execution_count": 112,
     "metadata": {},
     "output_type": "execute_result"
    }
   ],
   "source": [
    "a.ndim #Array DImension"
   ]
  },
  {
   "cell_type": "code",
   "execution_count": 113,
   "metadata": {},
   "outputs": [
    {
     "data": {
      "text/plain": [
       "4"
      ]
     },
     "execution_count": 113,
     "metadata": {},
     "output_type": "execute_result"
    }
   ],
   "source": [
    "a.itemsize #Space occupied by array element"
   ]
  },
  {
   "cell_type": "code",
   "execution_count": 116,
   "metadata": {},
   "outputs": [
    {
     "data": {
      "text/plain": [
       "dtype('int32')"
      ]
     },
     "execution_count": 116,
     "metadata": {},
     "output_type": "execute_result"
    }
   ],
   "source": [
    "a.dtype #Checking the size of the array"
   ]
  },
  {
   "cell_type": "code",
   "execution_count": null,
   "metadata": {},
   "outputs": [],
   "source": []
  },
  {
   "cell_type": "code",
   "execution_count": null,
   "metadata": {},
   "outputs": [],
   "source": []
  }
 ],
 "metadata": {
  "kernelspec": {
   "display_name": "Python 3",
   "language": "python",
   "name": "python3"
  },
  "language_info": {
   "codemirror_mode": {
    "name": "ipython",
    "version": 3
   },
   "file_extension": ".py",
   "mimetype": "text/x-python",
   "name": "python",
   "nbconvert_exporter": "python",
   "pygments_lexer": "ipython3",
   "version": "3.7.3"
  }
 },
 "nbformat": 4,
 "nbformat_minor": 2
}
